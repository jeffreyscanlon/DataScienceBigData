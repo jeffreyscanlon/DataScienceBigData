{
 "cells": [
  {
   "cell_type": "markdown",
   "metadata": {},
   "source": [
    "## Assignment 2, Part 2\n",
    "### Jeff Scanlon\n",
    "### Jscanlo2"
   ]
  },
  {
   "cell_type": "code",
   "execution_count": 320,
   "metadata": {},
   "outputs": [],
   "source": [
    "import pandas as pd\n",
    "df = pd.read_csv('tennis.txt', sep='\\s+')"
   ]
  },
  {
   "cell_type": "code",
   "execution_count": 321,
   "metadata": {},
   "outputs": [
    {
     "name": "stdout",
     "output_type": "stream",
     "text": [
      "0.6428571428571429\n",
      "0.35714285714285715\n",
      "0.2222222222222222\n",
      "0.4\n",
      "0.6666666666666666\n"
     ]
    },
    {
     "data": {
      "text/plain": [
       "<function __main__.p(prob_string)>"
      ]
     },
     "execution_count": 321,
     "metadata": {},
     "output_type": "execute_result"
    }
   ],
   "source": [
    "df1 = pd.read_csv('tennis.txt', sep='\\s+')\n",
    "\n",
    "def parse_features(string):\n",
    "    \n",
    "    #Create a list of list of tuples where list[0] = event(s) and list[1] = given condition(s)\n",
    "    event_pairs = []\n",
    "    given_pairs = []\n",
    "    conditions = [event_pairs, given_pairs]\n",
    "    \n",
    "    #I'm unsure how to use a list comprehension to make a list of lists of tuples.\n",
    "    string = \"\".join(string.split())\n",
    "    if ('|' in string and ',' not in string):\n",
    "        event, given = string.split('|')\n",
    "        e_col, e_val = event.split('=')\n",
    "        g_col, g_val = given.split('=')\n",
    "        event_pairs.append((e_col, e_val))\n",
    "        given_pairs.append((g_col, g_val))\n",
    "        return(conditions)\n",
    "    \n",
    "    elif (',' in string and '|' not in string):\n",
    "        events = string.split(',')\n",
    "        for e in events:\n",
    "            e_col, e_val = e.split('=')\n",
    "            event_pairs.append((e_col, e_val))\n",
    "        return(conditions)\n",
    "            \n",
    "    elif ('|' in string and ',' in string):\n",
    "        event, given = string.split('|')\n",
    "        if (',' in event and ',' in given):\n",
    "            events = event.split(',')\n",
    "            for e in events:\n",
    "                e_col, e_val = e.split('=')\n",
    "                event_pairs.append((e_col, e_val))\n",
    "            givens = given.split(',')\n",
    "            for g in givens:\n",
    "                g_col, g_val = g.split('=')\n",
    "                given_pairs.append((g_col, g_val))\n",
    "            return(conditions)\n",
    "            \n",
    "        elif (',' in event and ',' not in given):\n",
    "            events = event.split(',')\n",
    "            for e in events:\n",
    "                e_col, e_val = e.split('=')\n",
    "                event_pairs.append((e_col, e_val))\n",
    "            g_col, g_val = given.split('=')\n",
    "            given_pairs.append((g_col, g_val))\n",
    "            return(conditions)\n",
    "            \n",
    "        else:\n",
    "            givens = given.split(',')\n",
    "            e_col, e_val = event.split('=')\n",
    "            event_pairs.append((e_col, e_val))\n",
    "            for g in givens:\n",
    "                g_col, g_val = g.split('=')\n",
    "                given_pairs.append((g_col, g_val))\n",
    "            return(conditions)\n",
    "                        \n",
    "    else:\n",
    "        e_col, e_val = string.split('=')\n",
    "        event_pairs.append((e_col, e_val))\n",
    "        return(conditions)\n",
    "    \n",
    "    \n",
    "def compute(ans):\n",
    "    df = df1\n",
    "    #Have to use If, Else statements because dimensionality of list of lists is uncertain.\n",
    "    if (len(ans)>1):\n",
    "        event, given = ans\n",
    "\n",
    "        for g in given:\n",
    "            df = df.loc[df[g[0]] == g[1]]\n",
    "        count2 = len(df)\n",
    "    \n",
    "        for e in event:\n",
    "            df = df.loc[df[e[0]] == e[1]]\n",
    "        count1 = len(df)\n",
    "        \n",
    "    else:\n",
    "        count2 = len(df)\n",
    "        df = df.loc[df[ans[0]] == ans[1]]\n",
    "        count1 = len(df)\n",
    "\n",
    "    if (count2 == 0):\n",
    "        p = 0\n",
    "    else:\n",
    "        p = (count1/count2)\n",
    "    print(p)\n",
    "    \n",
    "#I have commented out the \"def probability\" because I'm still not quite sure why it is necessary.\n",
    "#I am able to get the probabilities without using returning the function itself.\n",
    "#def probability(prob_string):\n",
    "    def p(prob_string):\n",
    "        string = prob_string\n",
    "        ans = parse_features(string)\n",
    "        compute(ans)\n",
    "   # return p\n",
    "\n",
    "#Testing different probabilities\n",
    "p('play=yes')\n",
    "p('play=no')\n",
    "p('outlook=sunny|play=yes')\n",
    "p('outlook=rainy|play=no')\n",
    "p('play=no|outlook=sunny, wind=weak')"
   ]
  }
 ],
 "metadata": {
  "kernelspec": {
   "display_name": "Python 3",
   "language": "python",
   "name": "python3"
  },
  "language_info": {
   "codemirror_mode": {
    "name": "ipython",
    "version": 3
   },
   "file_extension": ".py",
   "mimetype": "text/x-python",
   "name": "python",
   "nbconvert_exporter": "python",
   "pygments_lexer": "ipython3",
   "version": "3.8.3"
  }
 },
 "nbformat": 4,
 "nbformat_minor": 4
}
