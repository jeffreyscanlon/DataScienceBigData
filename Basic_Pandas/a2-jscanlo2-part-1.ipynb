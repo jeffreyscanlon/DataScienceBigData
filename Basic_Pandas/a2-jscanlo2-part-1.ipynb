{
 "cells": [
  {
   "cell_type": "markdown",
   "metadata": {},
   "source": [
    "## Assignment 2, Part 1\n",
    "### Jeff Scanlon\n",
    "### Jscanlo2"
   ]
  },
  {
   "cell_type": "code",
   "execution_count": 1,
   "metadata": {},
   "outputs": [],
   "source": [
    "import pandas as pd\n",
    "import numpy as np\n",
    "\n",
    "UseGitHub = False # True\n",
    "if UseGitHub:\n",
    "    prefix = 'https://raw.githubusercontent.com/ProfRaja/67364/master/data/a2/'\n",
    "else:\n",
    "    prefix = 'C:/Users/jeffr/Documents/' #load locally\n",
    "    \n",
    "expeditions_xls = prefix+'Expeditions.xls'\n",
    "\n",
    "df = pd.read_excel(expeditions_xls)"
   ]
  },
  {
   "cell_type": "code",
   "execution_count": 2,
   "metadata": {},
   "outputs": [
    {
     "data": {
      "text/html": [
       "<div>\n",
       "<style scoped>\n",
       "    .dataframe tbody tr th:only-of-type {\n",
       "        vertical-align: middle;\n",
       "    }\n",
       "\n",
       "    .dataframe tbody tr th {\n",
       "        vertical-align: top;\n",
       "    }\n",
       "\n",
       "    .dataframe thead th {\n",
       "        text-align: right;\n",
       "    }\n",
       "</style>\n",
       "<table border=\"1\" class=\"dataframe\">\n",
       "  <thead>\n",
       "    <tr style=\"text-align: right;\">\n",
       "      <th>HOW</th>\n",
       "      <th>Catalog</th>\n",
       "      <th>Store</th>\n",
       "      <th>Web</th>\n",
       "      <th>Total</th>\n",
       "    </tr>\n",
       "    <tr>\n",
       "      <th>WHERE</th>\n",
       "      <th></th>\n",
       "      <th></th>\n",
       "      <th></th>\n",
       "      <th></th>\n",
       "    </tr>\n",
       "  </thead>\n",
       "  <tbody>\n",
       "    <tr>\n",
       "      <th>London</th>\n",
       "      <td>50310</td>\n",
       "      <td>151015</td>\n",
       "      <td>13009</td>\n",
       "      <td>214334</td>\n",
       "    </tr>\n",
       "    <tr>\n",
       "      <th>New York</th>\n",
       "      <td>8712</td>\n",
       "      <td>28060</td>\n",
       "      <td>2351</td>\n",
       "      <td>39123</td>\n",
       "    </tr>\n",
       "    <tr>\n",
       "      <th>Paris</th>\n",
       "      <td>32166</td>\n",
       "      <td>104083</td>\n",
       "      <td>7054</td>\n",
       "      <td>143303</td>\n",
       "    </tr>\n",
       "    <tr>\n",
       "      <th>Sydney</th>\n",
       "      <td>5471</td>\n",
       "      <td>21769</td>\n",
       "      <td>2749</td>\n",
       "      <td>29989</td>\n",
       "    </tr>\n",
       "    <tr>\n",
       "      <th>Tokyo</th>\n",
       "      <td>12103</td>\n",
       "      <td>42610</td>\n",
       "      <td>2003</td>\n",
       "      <td>56716</td>\n",
       "    </tr>\n",
       "    <tr>\n",
       "      <th>Total</th>\n",
       "      <td>108762</td>\n",
       "      <td>347537</td>\n",
       "      <td>27166</td>\n",
       "      <td>483465</td>\n",
       "    </tr>\n",
       "  </tbody>\n",
       "</table>\n",
       "</div>"
      ],
      "text/plain": [
       "HOW       Catalog   Store    Web   Total\n",
       "WHERE                                   \n",
       "London      50310  151015  13009  214334\n",
       "New York     8712   28060   2351   39123\n",
       "Paris       32166  104083   7054  143303\n",
       "Sydney       5471   21769   2749   29989\n",
       "Tokyo       12103   42610   2003   56716\n",
       "Total      108762  347537  27166  483465"
      ]
     },
     "execution_count": 2,
     "metadata": {},
     "output_type": "execute_result"
    }
   ],
   "source": [
    "pd.pivot_table(df, values='REVENUE', index='WHERE', columns = 'HOW', aggfunc = np.sum, margins=True, margins_name='Total')"
   ]
  },
  {
   "cell_type": "code",
   "execution_count": null,
   "metadata": {},
   "outputs": [],
   "source": []
  }
 ],
 "metadata": {
  "kernelspec": {
   "display_name": "Python 3",
   "language": "python",
   "name": "python3"
  },
  "language_info": {
   "codemirror_mode": {
    "name": "ipython",
    "version": 3
   },
   "file_extension": ".py",
   "mimetype": "text/x-python",
   "name": "python",
   "nbconvert_exporter": "python",
   "pygments_lexer": "ipython3",
   "version": "3.8.3"
  }
 },
 "nbformat": 4,
 "nbformat_minor": 4
}
