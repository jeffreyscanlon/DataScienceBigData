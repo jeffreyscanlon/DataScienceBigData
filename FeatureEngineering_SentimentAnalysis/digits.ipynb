{
 "cells": [
  {
   "cell_type": "markdown",
   "metadata": {},
   "source": [
    "# Assignment a-4 - Digits"
   ]
  },
  {
   "cell_type": "markdown",
   "metadata": {},
   "source": [
    "### Jeff Scanlon\n",
    "#### jscanlo2\n",
    "\n",
    "### Daniel Schnelbach\n",
    "#### dschnelb"
   ]
  },
  {
   "cell_type": "code",
   "execution_count": 28,
   "metadata": {},
   "outputs": [],
   "source": [
    "%run -i read_all_data.py"
   ]
  },
  {
   "cell_type": "code",
   "execution_count": 29,
   "metadata": {},
   "outputs": [],
   "source": [
    "train_img, train_lbl = read_all_image_label('train_images.txt','train_labels.txt')"
   ]
  },
  {
   "cell_type": "code",
   "execution_count": 30,
   "metadata": {},
   "outputs": [],
   "source": [
    "test_img, test_lbl = read_all_image_label('test_images.txt','test_labels.txt')"
   ]
  },
  {
   "cell_type": "code",
   "execution_count": 31,
   "metadata": {},
   "outputs": [
    {
     "name": "stdout",
     "output_type": "stream",
     "text": [
      "(5000, 1000)\n",
      "(5000, 1000)\n"
     ]
    }
   ],
   "source": [
    "print( (len(train_img), len(test_img)) )\n",
    "print( (len(train_lbl),len(test_lbl)) )"
   ]
  },
  {
   "cell_type": "code",
   "execution_count": 32,
   "metadata": {},
   "outputs": [],
   "source": [
    "# Get arrays\n",
    "import numpy as np\n",
    "y_train = np.array(train_lbl)\n",
    "y_test = np.array(test_lbl)"
   ]
  },
  {
   "cell_type": "code",
   "execution_count": 33,
   "metadata": {},
   "outputs": [],
   "source": [
    "#img = x_train[0]\n",
    "img = train_img[0]"
   ]
  },
  {
   "cell_type": "code",
   "execution_count": 10,
   "metadata": {},
   "outputs": [
    {
     "name": "stdout",
     "output_type": "stream",
     "text": [
      "['                            ',\n",
      " '                            ',\n",
      " '                            ',\n",
      " '                            ',\n",
      " '                            ',\n",
      " '                +++++##+    ',\n",
      " '        +++++######+###+    ',\n",
      " '       +##########+++++     ',\n",
      " '        #######+##          ',\n",
      " '        +++###  ++          ',\n",
      " '           +#+              ',\n",
      " '           +#+              ',\n",
      " '            +#+             ',\n",
      " '            +##++           ',\n",
      " '             +###++         ',\n",
      " '              ++##++        ',\n",
      " '                +##+        ',\n",
      " '                 ###+       ',\n",
      " '              +++###        ',\n",
      " '            ++#####+        ',\n",
      " '          ++######+         ',\n",
      " '        ++######+           ',\n",
      " '       +######+             ',\n",
      " '    ++######+               ',\n",
      " '    +####++                 ',\n",
      " '                            ',\n",
      " '                            ',\n",
      " '                            ']\n"
     ]
    }
   ],
   "source": [
    "from pprint import pprint as pp\n",
    "pp(img)"
   ]
  },
  {
   "cell_type": "code",
   "execution_count": 34,
   "metadata": {},
   "outputs": [],
   "source": [
    "# encode a \"digit\" \n",
    "\n",
    "def char2num(c):\n",
    "    if c == ' ':\n",
    "        n = 0\n",
    "    elif c == '+':\n",
    "        n = 1\n",
    "    elif c == '#':\n",
    "        n = 2\n",
    "    else:\n",
    "        print('This should not happen!')\n",
    "    return n"
   ]
  },
  {
   "cell_type": "code",
   "execution_count": 12,
   "metadata": {},
   "outputs": [],
   "source": [
    "def img2array(img):\n",
    "    s = ''.join(img)\n",
    "    arr = [ char2num(c) for c in s]\n",
    "    return np.array(arr)"
   ]
  },
  {
   "cell_type": "code",
   "execution_count": 13,
   "metadata": {},
   "outputs": [],
   "source": [
    "arr = img2array(img)"
   ]
  },
  {
   "cell_type": "code",
   "execution_count": 160,
   "metadata": {},
   "outputs": [
    {
     "data": {
      "text/plain": [
       "(784,)"
      ]
     },
     "execution_count": 160,
     "metadata": {},
     "output_type": "execute_result"
    }
   ],
   "source": [
    "arr.shape"
   ]
  },
  {
   "cell_type": "code",
   "execution_count": 14,
   "metadata": {},
   "outputs": [],
   "source": [
    "x_train = [img2array(img) for img in train_img]\n",
    "x_test = [img2array(img) for img in test_img]"
   ]
  },
  {
   "cell_type": "code",
   "execution_count": 15,
   "metadata": {},
   "outputs": [],
   "source": [
    "from sklearn.naive_bayes import GaussianNB\n",
    "from sklearn.naive_bayes import MultinomialNB\n",
    "from sklearn.naive_bayes import BernoulliNB"
   ]
  },
  {
   "cell_type": "code",
   "execution_count": 16,
   "metadata": {},
   "outputs": [],
   "source": [
    "g_model = GaussianNB()\n",
    "m_model = MultinomialNB()\n",
    "b_model = BernoulliNB()"
   ]
  },
  {
   "cell_type": "markdown",
   "metadata": {},
   "source": [
    "## Gaussian"
   ]
  },
  {
   "cell_type": "code",
   "execution_count": 252,
   "metadata": {},
   "outputs": [],
   "source": [
    "from sklearn.model_selection import train_test_split\n",
    "\n",
    "g_model.fit(x_train, y_train)\n",
    "predicted = g_model.predict(x_test)\n",
    "expected = y_test"
   ]
  },
  {
   "cell_type": "code",
   "execution_count": 253,
   "metadata": {},
   "outputs": [
    {
     "name": "stdout",
     "output_type": "stream",
     "text": [
      "0.509\n",
      "              precision    recall  f1-score   support\n",
      "\n",
      "           0       0.78      0.87      0.82        90\n",
      "           1       0.58      0.98      0.73       108\n",
      "           2       0.77      0.26      0.39       103\n",
      "           3       0.64      0.27      0.38       100\n",
      "           4       0.62      0.17      0.26       107\n",
      "           5       0.50      0.08      0.13        92\n",
      "           6       0.58      0.76      0.66        91\n",
      "           7       0.77      0.25      0.38       106\n",
      "           8       0.29      0.59      0.39       103\n",
      "           9       0.38      0.89      0.53       100\n",
      "\n",
      "    accuracy                           0.51      1000\n",
      "   macro avg       0.59      0.51      0.47      1000\n",
      "weighted avg       0.59      0.51      0.47      1000\n",
      "\n",
      "[[ 78   0   0   0   1   1   4   0   6   0]\n",
      " [  0 106   0   0   0   0   1   0   1   0]\n",
      " [  4  11  27  10   3   0  27   1  19   1]\n",
      " [  3  13   1  27   0   1   6   2  37  10]\n",
      " [  3   3   2   1  18   1   6   0  22  51]\n",
      " [  9   8   2   1   1   7   3   0  51  10]\n",
      " [  0  11   2   0   1   2  69   0   6   0]\n",
      " [  0   8   0   2   2   2   1  27   3  61]\n",
      " [  2  21   1   1   2   0   1   2  61  12]\n",
      " [  1   3   0   0   1   0   0   3   3  89]]\n"
     ]
    }
   ],
   "source": [
    "# Import  metrics\n",
    "from sklearn import metrics\n",
    "\n",
    "# summarize the fit of the model\n",
    "\n",
    "print(metrics.accuracy_score(expected, predicted))\n",
    "print(metrics.classification_report(expected, predicted))\n",
    "print(metrics.confusion_matrix(expected, predicted))"
   ]
  },
  {
   "cell_type": "markdown",
   "metadata": {},
   "source": [
    "## Gaussian performance\n",
    "\n",
    "The Gaussian model performed quite poorly. Total accuracy is just 0.51 and the model achieved a recall > 0.8 on just three digits. Digit 5 performed worst, followed by digit 4. Each of these are commonly misclassified as 8 or 9, which is intuitive given their shapes and humans tendency to not quite close our handwritten 8s, or to close too much the tops of our 4s, etc., when we are writing quickly (my handwritten digits certainly aren't always the cleanest!). \n",
    "\n",
    "The wiki article suggests Gaussian models work best when we have continuous variables and can safely assume a normal distribution. This is not a good set of assumptions for our data. "
   ]
  },
  {
   "cell_type": "code",
   "execution_count": 63,
   "metadata": {},
   "outputs": [
    {
     "name": "stdout",
     "output_type": "stream",
     "text": [
      "[9 0 1 8 1 9 9 1 1 0 9 1 9 9 8 1 0 2 8 1 8 7 9 0 8 1 9 1 5 1]\n",
      "[9 0 2 5 1 9 7 8 1 0 4 1 7 9 6 4 2 6 8 1 3 7 5 4 4 1 8 1 3 8]\n"
     ]
    }
   ],
   "source": [
    "print(predicted[:30])\n",
    "print(expected[:30])"
   ]
  },
  {
   "cell_type": "code",
   "execution_count": 73,
   "metadata": {},
   "outputs": [
    {
     "name": "stdout",
     "output_type": "stream",
     "text": [
      "5\n",
      "['                            ',\n",
      " '                            ',\n",
      " '                            ',\n",
      " '                            ',\n",
      " '                            ',\n",
      " '          +#########+       ',\n",
      " '         +###########+      ',\n",
      " '         ############+      ',\n",
      " '         ############       ',\n",
      " '         ####+++#####       ',\n",
      " '         +##+     +++       ',\n",
      " '         +###++++           ',\n",
      " '          ########+         ',\n",
      " '          #########+        ',\n",
      " '          ##########+       ',\n",
      " '          +##########       ',\n",
      " '           +++  ++###+      ',\n",
      " '                  +###      ',\n",
      " '      ++           ###      ',\n",
      " '     +###++       +###      ',\n",
      " '      ######++   +###+      ',\n",
      " '      ++#############       ',\n",
      " '       ++###########+       ',\n",
      " '         +#########+        ',\n",
      " '           ++####++         ',\n",
      " '                            ',\n",
      " '                            ',\n",
      " '                            ']\n",
      "5\n",
      "['                            ',\n",
      " '                            ',\n",
      " '                            ',\n",
      " '                            ',\n",
      " '                            ',\n",
      " '                            ',\n",
      " '              ++++####      ',\n",
      " '         +++++########+     ',\n",
      " '         +############      ',\n",
      " '        +######+++ +#+      ',\n",
      " '        ####++     ++       ',\n",
      " '        ###+   ++           ',\n",
      " '       +###++####+          ',\n",
      " '       +###########+        ',\n",
      " '       +######+####+        ',\n",
      " '        ###++   +##+        ',\n",
      " '        +++     +###        ',\n",
      " '                +###        ',\n",
      " '                +##+        ',\n",
      " '                +##+        ',\n",
      " '                +##+        ',\n",
      " '               +##+         ',\n",
      " '           +  +###+         ',\n",
      " '          +##+###+          ',\n",
      " '          +#####+           ',\n",
      " '          ++###+            ',\n",
      " '                            ',\n",
      " '                            ']\n"
     ]
    }
   ],
   "source": [
    "pp(test_lbl[3])\n",
    "pp(test_img[3])\n",
    "\n",
    "pp(test_lbl[22])\n",
    "pp(test_img[22])"
   ]
  },
  {
   "cell_type": "markdown",
   "metadata": {},
   "source": [
    "Above we see cases where we got 8 but expected 5. The tops of the fives each appear rather closed, and it is possible many written 8s in the data include unclosed portions aking to a 5 (i.e., not a perfectly enclosed symbol). "
   ]
  },
  {
   "cell_type": "code",
   "execution_count": 77,
   "metadata": {},
   "outputs": [
    {
     "name": "stdout",
     "output_type": "stream",
     "text": [
      "4\n",
      "['                            ',\n",
      " '                            ',\n",
      " '                            ',\n",
      " '                            ',\n",
      " '                            ',\n",
      " '                            ',\n",
      " '        +##+        ++      ',\n",
      " '       +###+        +#+     ',\n",
      " '     ++####+       +###     ',\n",
      " '     +####        +###+     ',\n",
      " '     ####+        +###+     ',\n",
      " '    +####+        +###+     ',\n",
      " '    +#####+++    +###+      ',\n",
      " '     +#######++++###+       ',\n",
      " '     +++############+       ',\n",
      " '        +++++++#####+       ',\n",
      " '              +#####+       ',\n",
      " '              +####+        ',\n",
      " '              +###+         ',\n",
      " '              +###+         ',\n",
      " '             +###+          ',\n",
      " '            +####           ',\n",
      " '            +###+           ',\n",
      " '            +###+           ',\n",
      " '            +###+           ',\n",
      " '            +##+            ',\n",
      " '                            ',\n",
      " '                            ']\n",
      "9\n",
      "['                            ',\n",
      " '                            ',\n",
      " '                            ',\n",
      " '                            ',\n",
      " '                            ',\n",
      " '                            ',\n",
      " '              ++            ',\n",
      " '             +##+           ',\n",
      " '            #####++         ',\n",
      " '           +##++##+         ',\n",
      " '          +##  +###         ',\n",
      " '         +##+  ####         ',\n",
      " '        +##+  +####         ',\n",
      " '        +#+  +#####         ',\n",
      " '        +#+++#####+         ',\n",
      " '        +######+##+         ',\n",
      " '         +###+++##+         ',\n",
      " '               +##+         ',\n",
      " '               +##+         ',\n",
      " '               +##          ',\n",
      " '               ###          ',\n",
      " '              +##+          ',\n",
      " '              +##+          ',\n",
      " '              ###+          ',\n",
      " '              ###+          ',\n",
      " '              +#+           ',\n",
      " '                            ',\n",
      " '                            ']\n"
     ]
    }
   ],
   "source": [
    "pp(test_lbl[10])\n",
    "pp(test_img[10])\n",
    "\n",
    "pp(test_lbl[13])\n",
    "pp(test_img[13])"
   ]
  },
  {
   "cell_type": "markdown",
   "metadata": {},
   "source": [
    "Above are 1) a case where we expected 4 and got 9, followed by 2) a case where we predicted and got 9. "
   ]
  },
  {
   "cell_type": "markdown",
   "metadata": {},
   "source": [
    "## Multinomial"
   ]
  },
  {
   "cell_type": "code",
   "execution_count": 162,
   "metadata": {},
   "outputs": [],
   "source": [
    "m_model.fit(x_train, y_train)\n",
    "predicted = m_model.predict(x_test)\n",
    "expected = y_test"
   ]
  },
  {
   "cell_type": "code",
   "execution_count": 163,
   "metadata": {},
   "outputs": [
    {
     "name": "stdout",
     "output_type": "stream",
     "text": [
      "0.751\n",
      "              precision    recall  f1-score   support\n",
      "\n",
      "           0       0.92      0.87      0.89        90\n",
      "           1       0.84      0.94      0.89       108\n",
      "           2       0.86      0.73      0.79       103\n",
      "           3       0.70      0.83      0.76       100\n",
      "           4       0.74      0.65      0.70       107\n",
      "           5       0.80      0.55      0.65        92\n",
      "           6       0.79      0.78      0.78        91\n",
      "           7       0.88      0.70      0.78       106\n",
      "           8       0.60      0.63      0.62       103\n",
      "           9       0.55      0.82      0.66       100\n",
      "\n",
      "    accuracy                           0.75      1000\n",
      "   macro avg       0.77      0.75      0.75      1000\n",
      "weighted avg       0.77      0.75      0.75      1000\n",
      "\n",
      "[[ 78   0   1   1   0   2   3   0   5   0]\n",
      " [  0 102   0   0   0   0   1   0   5   0]\n",
      " [  1   3  75   3   2   1   7   1  10   0]\n",
      " [  0   1   0  83   0   2   2   5   1   6]\n",
      " [  0   0   2   0  70   1   4   0   2  28]\n",
      " [  2   1   1  15   4  51   2   1   8   7]\n",
      " [  2   6   2   0   3   3  71   0   4   0]\n",
      " [  0   5   3   0   4   0   0  74   4  16]\n",
      " [  1   2   3  14   3   4   0   2  65   9]\n",
      " [  1   1   0   3   8   0   0   1   4  82]]\n"
     ]
    }
   ],
   "source": [
    "print(metrics.accuracy_score(expected, predicted))\n",
    "print(metrics.classification_report(expected, predicted))\n",
    "print(metrics.confusion_matrix(expected, predicted))"
   ]
  },
  {
   "cell_type": "markdown",
   "metadata": {},
   "source": [
    "## Multinomial performance\n",
    "\n",
    "The Multinomial model is a significant improvement. Total accuracy is just 0.75 and the model achieved a recall > 0.8 on four digits. Digits 5 and 8 caused the most trouble, which these often being mistaken for 3s now. \n",
    "\n",
    "Multinomial models employ feature vectors, which is what we have here. This has greatly improved predictions relative to the Gaussian because it will create a histogram based on actual counting of events as they are observed instead of using a normality assumption. The model is a better fit for our feature as constructed. "
   ]
  },
  {
   "cell_type": "code",
   "execution_count": 83,
   "metadata": {},
   "outputs": [
    {
     "name": "stdout",
     "output_type": "stream",
     "text": [
      "[9 0 2 3 1 9 7 8 1 0 4 1 9 9 4 9 2 2 8 1 3 7 9 4 8 1 8 1 5 8]\n",
      "[9 0 2 5 1 9 7 8 1 0 4 1 7 9 6 4 2 6 8 1 3 7 5 4 4 1 8 1 3 8]\n"
     ]
    }
   ],
   "source": [
    "print(predicted[:30])\n",
    "print(expected[:30])"
   ]
  },
  {
   "cell_type": "code",
   "execution_count": 93,
   "metadata": {},
   "outputs": [
    {
     "name": "stdout",
     "output_type": "stream",
     "text": [
      "5\n",
      "3\n",
      "['                            ',\n",
      " '                            ',\n",
      " '                            ',\n",
      " '                            ',\n",
      " '                            ',\n",
      " '          +#########+       ',\n",
      " '         +###########+      ',\n",
      " '         ############+      ',\n",
      " '         ############       ',\n",
      " '         ####+++#####       ',\n",
      " '         +##+     +++       ',\n",
      " '         +###++++           ',\n",
      " '          ########+         ',\n",
      " '          #########+        ',\n",
      " '          ##########+       ',\n",
      " '          +##########       ',\n",
      " '           +++  ++###+      ',\n",
      " '                  +###      ',\n",
      " '      ++           ###      ',\n",
      " '     +###++       +###      ',\n",
      " '      ######++   +###+      ',\n",
      " '      ++#############       ',\n",
      " '       ++###########+       ',\n",
      " '         +#########+        ',\n",
      " '           ++####++         ',\n",
      " '                            ',\n",
      " '                            ',\n",
      " '                            ']\n",
      "3\n",
      "5\n",
      "['                            ',\n",
      " '                            ',\n",
      " '                            ',\n",
      " '                            ',\n",
      " '                            ',\n",
      " '      ++#++++++             ',\n",
      " '     +##########+           ',\n",
      " '     +#++++######+          ',\n",
      " '             ++##+          ',\n",
      " '              +##+          ',\n",
      " '            +####           ',\n",
      " '     ++++++#####+           ',\n",
      " '    #############++         ',\n",
      " '    ################+       ',\n",
      " '    +++++++    ++####+      ',\n",
      " '                  +###+     ',\n",
      " '                    +##+    ',\n",
      " '                     ###    ',\n",
      " '      +#+            +##    ',\n",
      " '      ###+         ++###    ',\n",
      " '      +#####+++++######+    ',\n",
      " '       +##############+     ',\n",
      " '         ++++##+###++       ',\n",
      " '                ++          ',\n",
      " '                            ',\n",
      " '                            ',\n",
      " '                            ',\n",
      " '                            ']\n"
     ]
    }
   ],
   "source": [
    "pp(test_lbl[3])\n",
    "pp(predicted[3])\n",
    "pp(test_img[3])\n",
    "\n",
    "pp(test_lbl[28])\n",
    "pp(predicted[28])\n",
    "pp(test_img[28])"
   ]
  },
  {
   "cell_type": "markdown",
   "metadata": {},
   "source": [
    "The multinomial model confused more 5s and 3s. Above are two instances. First, calling a 5 a 3, and then a 3 a 5. "
   ]
  },
  {
   "cell_type": "markdown",
   "metadata": {},
   "source": [
    "## Bernoulli"
   ]
  },
  {
   "cell_type": "code",
   "execution_count": 164,
   "metadata": {},
   "outputs": [],
   "source": [
    "b_model.fit(x_train, y_train)\n",
    "predicted = b_model.predict(x_test)\n",
    "expected = y_test"
   ]
  },
  {
   "cell_type": "code",
   "execution_count": 96,
   "metadata": {},
   "outputs": [
    {
     "name": "stdout",
     "output_type": "stream",
     "text": [
      "0.771\n",
      "              precision    recall  f1-score   support\n",
      "\n",
      "           0       0.92      0.84      0.88        90\n",
      "           1       0.83      0.96      0.89       108\n",
      "           2       0.85      0.78      0.81       103\n",
      "           3       0.71      0.79      0.75       100\n",
      "           4       0.78      0.77      0.77       107\n",
      "           5       0.73      0.67      0.70        92\n",
      "           6       0.81      0.76      0.78        91\n",
      "           7       0.87      0.73      0.79       106\n",
      "           8       0.75      0.60      0.67       103\n",
      "           9       0.58      0.80      0.67       100\n",
      "\n",
      "    accuracy                           0.77      1000\n",
      "   macro avg       0.78      0.77      0.77      1000\n",
      "weighted avg       0.78      0.77      0.77      1000\n",
      "\n",
      "[[ 76   0   1   0   1   5   3   0   4   0]\n",
      " [  0 104   1   0   0   2   1   0   0   0]\n",
      " [  1   3  80   4   1   0   6   1   5   2]\n",
      " [  0   2   0  79   0   3   2   6   2   6]\n",
      " [  0   1   0   0  82   0   3   1   2  18]\n",
      " [  2   2   1  12   3  62   1   1   2   6]\n",
      " [  1   6   4   0   4   5  69   0   2   0]\n",
      " [  0   6   3   0   3   0   0  77   3  14]\n",
      " [  2   1   3  14   2   6   0   1  62  12]\n",
      " [  1   1   1   3   9   2   0   2   1  80]]\n"
     ]
    }
   ],
   "source": [
    "print(metrics.accuracy_score(expected, predicted))\n",
    "print(metrics.classification_report(expected, predicted))\n",
    "print(metrics.confusion_matrix(expected, predicted))"
   ]
  },
  {
   "cell_type": "markdown",
   "metadata": {},
   "source": [
    "## Bernoulli performance\n",
    "\n",
    "The Bernoulli model shows marginal improvement (accuracy rises by 0.02) over the Multinomial. The difference in these models is that in the Bernoulli, binary term occurrence features are used rather than term frequencies (that make the histograms noted above). \n",
    "\n",
    "The performance improves mostly from better classification of 4, 5 and 8. "
   ]
  },
  {
   "cell_type": "markdown",
   "metadata": {},
   "source": [
    "## Adding features"
   ]
  },
  {
   "cell_type": "code",
   "execution_count": 52,
   "metadata": {},
   "outputs": [],
   "source": [
    "def img2array2(img, val1, val2, val3):\n",
    "    s = ''.join(img)\n",
    "    arr = [ char2num(c) for c in s ]\n",
    "    \n",
    "    # Add the means for each column vector in the image\n",
    "    col_means = [ x.mean() for x in np.array(arr).reshape(28,28) ]\n",
    "\n",
    "        # Using a matrix to get row means and adding these made it WORSE!\n",
    "    #arr3 = np.matrix(np.array(arr).reshape(28,28)).mean(0)\n",
    "    #row_means = [ arr3[0,i] for i in range(0,arr3.shape[1]) ]\n",
    "\n",
    "\n",
    "    # Put the 28x28 image into 3x3 blocks and get their aggregates\n",
    "    x = list(range(0,27,3))\n",
    "    y = list(range(3,28,3))\n",
    "\n",
    "    mtx = np.matrix(np.array(arr).reshape(28,28))\n",
    "    \n",
    "    # ZIP(xy) pairs the 0:3 range splits above, then I use them iteratively to get the 3x3 blocks out\n",
    "    block_sums = [mtx[i[0]:i[1], mtx[i[0]:i[1]]].sum() for i in zip(x,y)]\n",
    "    \n",
    "                \n",
    "    for mu in col_means:\n",
    "        arr.append(mu)\n",
    "        \n",
    "    #for mu in row_means:\n",
    "    #    arr.append(mu)\n",
    "    \n",
    "    for mu in block_sums:\n",
    "        arr.append(mu)\n",
    "        \n",
    "    for i in val1:\n",
    "        arr.append(i)\n",
    "    for i in val2:\n",
    "        arr.append(i)\n",
    "    for i in val3:\n",
    "        arr.append(i)\n",
    "    \n",
    "    return np.array(arr)"
   ]
  },
  {
   "cell_type": "code",
   "execution_count": 36,
   "metadata": {},
   "outputs": [
    {
     "ename": "NameError",
     "evalue": "name 's' is not defined",
     "output_type": "error",
     "traceback": [
      "\u001b[1;31m---------------------------------------------------------------------------\u001b[0m",
      "\u001b[1;31mNameError\u001b[0m                                 Traceback (most recent call last)",
      "\u001b[1;32m~\\Downloads\\digits\\digits\\read_all_data.py\u001b[0m in \u001b[0;36m<module>\u001b[1;34m\u001b[0m\n\u001b[1;32m----> 1\u001b[1;33m \u001b[0marr\u001b[0m \u001b[1;33m=\u001b[0m \u001b[1;33m[\u001b[0m \u001b[0mchar2num\u001b[0m\u001b[1;33m(\u001b[0m\u001b[0mc\u001b[0m\u001b[1;33m)\u001b[0m \u001b[1;32mfor\u001b[0m \u001b[0mc\u001b[0m \u001b[1;32min\u001b[0m \u001b[0ms\u001b[0m \u001b[1;33m]\u001b[0m\u001b[1;33m\u001b[0m\u001b[1;33m\u001b[0m\u001b[0m\n\u001b[0m\u001b[0;32m      2\u001b[0m \u001b[0marr\u001b[0m\u001b[1;33m;\u001b[0m\u001b[1;33m\u001b[0m\u001b[1;33m\u001b[0m\u001b[0m\n",
      "\u001b[1;31mNameError\u001b[0m: name 's' is not defined"
     ]
    }
   ],
   "source": [
    "arr = [ char2num(c) for c in s ]\n",
    "arr;"
   ]
  },
  {
   "cell_type": "markdown",
   "metadata": {},
   "source": [
    "## Retrain"
   ]
  },
  {
   "cell_type": "code",
   "execution_count": 37,
   "metadata": {},
   "outputs": [
    {
     "ename": "TypeError",
     "evalue": "img2array2() missing 3 required positional arguments: 'val1', 'val2', and 'val3'",
     "output_type": "error",
     "traceback": [
      "\u001b[1;31m---------------------------------------------------------------------------\u001b[0m",
      "\u001b[1;31mTypeError\u001b[0m                                 Traceback (most recent call last)",
      "\u001b[1;32m~\\Downloads\\digits\\digits\\read_all_data.py\u001b[0m in \u001b[0;36m<module>\u001b[1;34m\u001b[0m\n\u001b[1;32m----> 1\u001b[1;33m \u001b[0mx_train_2\u001b[0m \u001b[1;33m=\u001b[0m \u001b[1;33m[\u001b[0m\u001b[0mimg2array2\u001b[0m\u001b[1;33m(\u001b[0m\u001b[0mimg\u001b[0m\u001b[1;33m)\u001b[0m \u001b[1;32mfor\u001b[0m \u001b[0mimg\u001b[0m \u001b[1;32min\u001b[0m \u001b[0mtrain_img\u001b[0m\u001b[1;33m]\u001b[0m\u001b[1;33m\u001b[0m\u001b[1;33m\u001b[0m\u001b[0m\n\u001b[0m\u001b[0;32m      2\u001b[0m \u001b[0mx_test_2\u001b[0m \u001b[1;33m=\u001b[0m \u001b[1;33m[\u001b[0m\u001b[0mimg2array2\u001b[0m\u001b[1;33m(\u001b[0m\u001b[0mimg\u001b[0m\u001b[1;33m)\u001b[0m \u001b[1;32mfor\u001b[0m \u001b[0mimg\u001b[0m \u001b[1;32min\u001b[0m \u001b[0mtest_img\u001b[0m\u001b[1;33m]\u001b[0m\u001b[1;33m\u001b[0m\u001b[1;33m\u001b[0m\u001b[0m\n",
      "\u001b[1;32m~\\Downloads\\digits\\digits\\read_all_data.py\u001b[0m in \u001b[0;36m<listcomp>\u001b[1;34m(.0)\u001b[0m\n\u001b[1;32m----> 1\u001b[1;33m \u001b[0mx_train_2\u001b[0m \u001b[1;33m=\u001b[0m \u001b[1;33m[\u001b[0m\u001b[0mimg2array2\u001b[0m\u001b[1;33m(\u001b[0m\u001b[0mimg\u001b[0m\u001b[1;33m)\u001b[0m \u001b[1;32mfor\u001b[0m \u001b[0mimg\u001b[0m \u001b[1;32min\u001b[0m \u001b[0mtrain_img\u001b[0m\u001b[1;33m]\u001b[0m\u001b[1;33m\u001b[0m\u001b[1;33m\u001b[0m\u001b[0m\n\u001b[0m\u001b[0;32m      2\u001b[0m \u001b[0mx_test_2\u001b[0m \u001b[1;33m=\u001b[0m \u001b[1;33m[\u001b[0m\u001b[0mimg2array2\u001b[0m\u001b[1;33m(\u001b[0m\u001b[0mimg\u001b[0m\u001b[1;33m)\u001b[0m \u001b[1;32mfor\u001b[0m \u001b[0mimg\u001b[0m \u001b[1;32min\u001b[0m \u001b[0mtest_img\u001b[0m\u001b[1;33m]\u001b[0m\u001b[1;33m\u001b[0m\u001b[1;33m\u001b[0m\u001b[0m\n",
      "\u001b[1;31mTypeError\u001b[0m: img2array2() missing 3 required positional arguments: 'val1', 'val2', and 'val3'"
     ]
    }
   ],
   "source": [
    "x_train_2 = [img2array2(img) for img in train_img]\n",
    "x_test_2 = [img2array2(img) for img in test_img]"
   ]
  },
  {
   "cell_type": "code",
   "execution_count": 345,
   "metadata": {},
   "outputs": [
    {
     "data": {
      "text/plain": [
       "0.0"
      ]
     },
     "execution_count": 345,
     "metadata": {},
     "output_type": "execute_result"
    }
   ],
   "source": [
    "x_train_2[0][785]"
   ]
  },
  {
   "cell_type": "markdown",
   "metadata": {},
   "source": [
    "## Test with just adding my lone successful addition of the basic numpy vector means"
   ]
  },
  {
   "cell_type": "code",
   "execution_count": 416,
   "metadata": {},
   "outputs": [],
   "source": [
    "g_model.fit(x_train_2, y_train)\n",
    "predicted = g_model.predict(x_test_2)\n",
    "expected = y_test"
   ]
  },
  {
   "cell_type": "code",
   "execution_count": 417,
   "metadata": {},
   "outputs": [
    {
     "name": "stdout",
     "output_type": "stream",
     "text": [
      "0.534\n",
      "              precision    recall  f1-score   support\n",
      "\n",
      "           0       0.83      0.87      0.85        90\n",
      "           1       0.64      0.97      0.77       108\n",
      "           2       0.77      0.32      0.45       103\n",
      "           3       0.69      0.27      0.39       100\n",
      "           4       0.70      0.21      0.33       107\n",
      "           5       0.53      0.10      0.17        92\n",
      "           6       0.61      0.78      0.69        91\n",
      "           7       0.78      0.27      0.41       106\n",
      "           8       0.30      0.67      0.42       103\n",
      "           9       0.39      0.90      0.55       100\n",
      "\n",
      "    accuracy                           0.53      1000\n",
      "   macro avg       0.62      0.54      0.50      1000\n",
      "weighted avg       0.62      0.53      0.50      1000\n",
      "\n",
      "[[ 78   0   1   0   0   1   3   0   7   0]\n",
      " [  0 105   0   0   0   0   2   0   1   0]\n",
      " [  4  10  33   7   3   0  25   1  20   0]\n",
      " [  2  10   1  27   0   1   6   2  41  10]\n",
      " [  0   2   2   1  23   1   6   0  22  50]\n",
      " [  8   5   2   1   1   9   1   0  56   9]\n",
      " [  0   8   3   0   1   2  71   0   6   0]\n",
      " [  0   6   0   1   3   2   1  29   3  61]\n",
      " [  1  15   1   2   1   1   1   2  69  10]\n",
      " [  1   2   0   0   1   0   0   3   3  90]]\n"
     ]
    }
   ],
   "source": [
    "print(metrics.accuracy_score(expected, predicted))\n",
    "print(metrics.classification_report(expected, predicted))\n",
    "print(metrics.confusion_matrix(expected, predicted))"
   ]
  },
  {
   "cell_type": "markdown",
   "metadata": {},
   "source": [
    "### Number of bands of characters, average band length"
   ]
  },
  {
   "cell_type": "markdown",
   "metadata": {},
   "source": [
    "### Note to self: nbands is not a good one to use! Drastically decreased performance somehow??\n",
    "### Also, while av_length and Daniel's mean (arr2) both slightly increase performance, together they decrease performance! Weird!"
   ]
  },
  {
   "cell_type": "code",
   "execution_count": 41,
   "metadata": {},
   "outputs": [],
   "source": [
    "\n",
    "nbands = []\n",
    "av_length = []\n",
    "overall_av_len = []\n",
    "\n",
    "for X in train_img:\n",
    "    num_bands = []\n",
    "    avg_band_length = []\n",
    "    for line in X:\n",
    "        string = line.split()\n",
    "        num = len(string)\n",
    "        num_bands.append(num)\n",
    "        if num == 0:\n",
    "            avg_band_length.append(0)\n",
    "        elif num == 1:\n",
    "            avg_band_length.append(len(string[0]))\n",
    "        else:\n",
    "            for y in string:\n",
    "                ans = [len(y) for y in string]\n",
    "            avg_band_length.append(sum(ans)/len(ans))\n",
    "    nbands.append(num_bands)\n",
    "    av_length.append(avg_band_length)"
   ]
  },
  {
   "cell_type": "markdown",
   "metadata": {},
   "source": [
    "### Surprisingly to me, none of these seemed to have great impact individually, and some actually decreased performance slightly.\n",
    "\n",
    "### Nbands worked the best out of these four, but only increased .001 (.1%)!"
   ]
  },
  {
   "cell_type": "code",
   "execution_count": 42,
   "metadata": {},
   "outputs": [],
   "source": [
    "\n",
    "oneband = []\n",
    "twobands = []\n",
    "threebands = []\n",
    "nbands = []\n",
    "for X in train_img:\n",
    "    band1 = []\n",
    "    band2 = []\n",
    "    band3 = []\n",
    "    bandmore = []\n",
    "    for line in X:\n",
    "        string = line.split()\n",
    "        num = len(string)\n",
    "        if num == 1:\n",
    "            band1.append(1)\n",
    "        elif num == 2:\n",
    "            band2.append(1)\n",
    "        elif num == 3:\n",
    "            band3.append(1)\n",
    "        elif num >= 4:\n",
    "            bandmore.append(1)\n",
    "    oneband.append([sum(band1)])\n",
    "    twobands.append([sum(band2)])\n",
    "    threebands.append([sum(band3)])\n",
    "    nbands.append([sum(bandmore)])"
   ]
  },
  {
   "cell_type": "markdown",
   "metadata": {},
   "source": [
    "### Want to try an interation of the work above...but check to see if 2 band regions are enclosed by 1 band regions on both sides or just on one side\n",
    "\n",
    "### It kind of surprises me that this one didn't do as well because when I checked for myself, this successfully identified 7 of the 8 eights that are in the first 100 digits, and made 2 false negatives. (Or by tweaking this code you could reduce false positives to 1 but decrease true positives to 6 out of 8, by removing the \"+\" signs from each string)."
   ]
  },
  {
   "cell_type": "code",
   "execution_count": 48,
   "metadata": {},
   "outputs": [
    {
     "ename": "NameError",
     "evalue": "name 'boolean' is not defined",
     "output_type": "error",
     "traceback": [
      "\u001b[1;31m---------------------------------------------------------------------------\u001b[0m",
      "\u001b[1;31mNameError\u001b[0m                                 Traceback (most recent call last)",
      "\u001b[1;32m~\\Downloads\\digits\\digits\\read_all_data.py\u001b[0m in \u001b[0;36m<module>\u001b[1;34m\u001b[0m\n\u001b[0;32m     22\u001b[0m     \u001b[0mstring\u001b[0m \u001b[1;33m=\u001b[0m \u001b[0mstring\u001b[0m\u001b[1;33m.\u001b[0m\u001b[0mreplace\u001b[0m\u001b[1;33m(\u001b[0m\u001b[1;34m' '\u001b[0m\u001b[1;33m,\u001b[0m\u001b[1;34m''\u001b[0m\u001b[1;33m)\u001b[0m\u001b[1;33m\u001b[0m\u001b[1;33m\u001b[0m\u001b[0m\n\u001b[0;32m     23\u001b[0m     \u001b[0mmatch\u001b[0m \u001b[1;33m=\u001b[0m \u001b[0mre\u001b[0m\u001b[1;33m.\u001b[0m\u001b[0msearch\u001b[0m\u001b[1;33m(\u001b[0m\u001b[1;34m\"[1]+2{2,8}[1]+2{3,8}[1]+\"\u001b[0m\u001b[1;33m,\u001b[0m \u001b[0mstring\u001b[0m\u001b[1;33m)\u001b[0m\u001b[1;33m\u001b[0m\u001b[1;33m\u001b[0m\u001b[0m\n\u001b[1;32m---> 24\u001b[1;33m     \u001b[1;32mif\u001b[0m \u001b[0mboolean\u001b[0m \u001b[1;33m==\u001b[0m \u001b[0mbool\u001b[0m\u001b[1;33m(\u001b[0m\u001b[0mmatch\u001b[0m\u001b[1;33m)\u001b[0m\u001b[1;33m:\u001b[0m\u001b[1;33m\u001b[0m\u001b[1;33m\u001b[0m\u001b[0m\n\u001b[0m\u001b[0;32m     25\u001b[0m         \u001b[0meights\u001b[0m\u001b[1;33m.\u001b[0m\u001b[0mappend\u001b[0m\u001b[1;33m(\u001b[0m\u001b[1;33m[\u001b[0m\u001b[1;36m0\u001b[0m\u001b[1;33m]\u001b[0m\u001b[1;33m)\u001b[0m\u001b[1;33m\u001b[0m\u001b[1;33m\u001b[0m\u001b[0m\n\u001b[0;32m     26\u001b[0m     \u001b[1;32melse\u001b[0m\u001b[1;33m:\u001b[0m\u001b[1;33m\u001b[0m\u001b[1;33m\u001b[0m\u001b[0m\n",
      "\u001b[1;31mNameError\u001b[0m: name 'boolean' is not defined"
     ]
    }
   ],
   "source": [
    "import re\n",
    "\n",
    "tot_list = []\n",
    "eights = []\n",
    "fours = []\n",
    "for X in train_img:\n",
    "    len_list = []\n",
    "    for line in X:\n",
    "        string = line.split()\n",
    "        num = len(string)\n",
    "        len_list.append(num)\n",
    "    tot_list.append(len_list)\n",
    "for x in tot_list:\n",
    "    string = str(x).strip('[]')\n",
    "    string = string.replace(',','')  \n",
    "    string = string.replace(' ','')\n",
    "    match = re.search(\"[1]+2{2,8}[1]+2{3,8}[1]+\", string)\n",
    "    if boolean == bool(match):\n",
    "        eights.append([0])\n",
    "    else:\n",
    "        eights.append([8])\n",
    "        \n",
    "#Used this code to check my work: (Uncomment to use)\n",
    "#list(enumerate(eights[0:100]))             #<- To know which ones I classify as 8 in first 100\n",
    "#list(enumerate(y_train_np[0:100]))        <- To know where all the eights in first 100 are\n",
    "#X_train[85]          <- Just for looking at the 8's I missed first time around\n",
    "#tot_list[94]"
   ]
  },
  {
   "cell_type": "markdown",
   "metadata": {},
   "source": [
    "### Let's try something similar with fours.\n",
    "### This one had a lower success rate."
   ]
  },
  {
   "cell_type": "code",
   "execution_count": null,
   "metadata": {},
   "outputs": [],
   "source": [
    "four_list = []\n",
    "fours = []\n",
    "for X in train_img:\n",
    "    four_list = []\n",
    "    for line in X:\n",
    "        string = line.split()\n",
    "        num = len(string)\n",
    "        len_list.append(num)\n",
    "    fours.append(four_list)\n",
    "for x in fours:\n",
    "    string = str(x).strip('[]')\n",
    "    string = string.replace(',','')  \n",
    "    string = string.replace(' ','')\n",
    "    match1 = re.search(\"[0]+2{4,8}[1]+\", string)\n",
    "    if boolean == bool(match1):\n",
    "        fours.append([0])\n",
    "    else:\n",
    "        fours.append([8])\n",
    "list(enumerate(fours[0:100]))\n",
    "#list(enumerate(y_train_np[0:100]))"
   ]
  },
  {
   "cell_type": "markdown",
   "metadata": {},
   "source": [
    "### num12 = Number of character bands of 12 or more characters\n",
    "### num3 = Number of character bands of exactly 3 characters\n",
    "### Seems to be somewhat effective, even with the Means"
   ]
  },
  {
   "cell_type": "code",
   "execution_count": 49,
   "metadata": {},
   "outputs": [],
   "source": [
    "num12 = []\n",
    "num3 = []\n",
    "for X in train_img:\n",
    "    counts12 = []\n",
    "    counts3 = []\n",
    "    for line in X:\n",
    "        count12 = 0\n",
    "        count3 = 0\n",
    "        string = line.split()\n",
    "        for s in string:\n",
    "            if len(s) >= 12:\n",
    "                count12 += 1\n",
    "            elif len(s) == 3:\n",
    "                count3 +=1\n",
    "        counts12.append(count12)\n",
    "        counts3.append(count3)\n",
    "    num12.append([sum(counts12)])\n",
    "    num3.append([sum(counts3)])"
   ]
  },
  {
   "cell_type": "markdown",
   "metadata": {},
   "source": []
  },
  {
   "cell_type": "code",
   "execution_count": 50,
   "metadata": {},
   "outputs": [],
   "source": [
    "def img2array(img, val1, val2, val3):\n",
    "    s = ''.join(img)\n",
    "    arr = [ char2num(c) for c in s]\n",
    "    arr2 = [ x.mean() for x in np.array(arr).reshape(28,28) ]\n",
    "    for i in arr2:\n",
    "        arr.append(i)\n",
    "    for i in val1:\n",
    "        arr.append(i)\n",
    "    for i in val2:\n",
    "        arr.append(i)\n",
    "    for i in val3:\n",
    "        arr.append(i)\n",
    "    return np.array(arr)"
   ]
  },
  {
   "cell_type": "code",
   "execution_count": 53,
   "metadata": {},
   "outputs": [],
   "source": [
    "X_train_np = [img2array(img, val1, val2, val3) for img, val1, val2, val3 in zip(train_img, num12, num3, nbands)]\n",
    "X_test_np = [img2array(img, val1, val2, val3) for img, val1, val2, val3 in zip(test_img, num12, num3, nbands)]"
   ]
  },
  {
   "cell_type": "code",
   "execution_count": 57,
   "metadata": {},
   "outputs": [],
   "source": [
    "g_model.fit(X_train_np, y_train)\n",
    "predicted = g_model.predict(X_test_np)\n",
    "expected = y_test"
   ]
  },
  {
   "cell_type": "code",
   "execution_count": 59,
   "metadata": {},
   "outputs": [
    {
     "name": "stdout",
     "output_type": "stream",
     "text": [
      "0.546\n",
      "              precision    recall  f1-score   support\n",
      "\n",
      "           0       0.83      0.87      0.85        90\n",
      "           1       0.63      0.98      0.77       108\n",
      "           2       0.77      0.33      0.46       103\n",
      "           3       0.71      0.34      0.46       100\n",
      "           4       0.72      0.21      0.33       107\n",
      "           5       0.56      0.10      0.17        92\n",
      "           6       0.62      0.78      0.69        91\n",
      "           7       0.78      0.29      0.42       106\n",
      "           8       0.33      0.68      0.44       103\n",
      "           9       0.39      0.90      0.55       100\n",
      "\n",
      "    accuracy                           0.55      1000\n",
      "   macro avg       0.63      0.55      0.51      1000\n",
      "weighted avg       0.63      0.55      0.51      1000\n",
      "\n",
      "[[ 78   0   1   0   0   1   3   0   7   0]\n",
      " [  0 106   0   0   0   0   1   0   1   0]\n",
      " [  4  10  34   8   3   0  24   1  18   1]\n",
      " [  2  11   1  34   0   1   6   2  33  10]\n",
      " [  0   3   2   1  23   1   7   1  20  49]\n",
      " [  8   7   2   1   1   9   1   0  54   9]\n",
      " [  0   8   3   0   1   2  71   0   6   0]\n",
      " [  0   6   0   2   2   2   1  31   3  59]\n",
      " [  1  15   1   2   1   0   1   2  70  10]\n",
      " [  1   2   0   0   1   0   0   3   3  90]]\n"
     ]
    }
   ],
   "source": [
    "from sklearn import metrics\n",
    "\n",
    "print(metrics.accuracy_score(expected, predicted))\n",
    "print(metrics.classification_report(expected, predicted))\n",
    "print(metrics.confusion_matrix(expected, predicted))"
   ]
  },
  {
   "cell_type": "markdown",
   "metadata": {},
   "source": [
    "### We were able to boost performance to 0.546...a very slight boost and not quite what we were hoping for, but it is still improvement! Below are some additional ideas for what we would like to pursue next if we had more time."
   ]
  },
  {
   "cell_type": "markdown",
   "metadata": {},
   "source": [
    "### Other features we considered but were not sure how to implement:\n",
    "Feautres involving columns.\n",
    "Examples: Max length of consecutive 1's in any column in the 28x28 array.\n",
    "Max length of consecutive 2's in any column...\n",
    "Max length of consecutive 1's or 2's...\n",
    "Number of columns with consecutives 1's or 2's >= 10 or 12.\n",
    "While we wanted to implement these features, we were not sure how to do so in code."
   ]
  },
  {
   "cell_type": "code",
   "execution_count": null,
   "metadata": {},
   "outputs": [],
   "source": []
  }
 ],
 "metadata": {
  "kernelspec": {
   "display_name": "Python 3",
   "language": "python",
   "name": "python3"
  },
  "language_info": {
   "codemirror_mode": {
    "name": "ipython",
    "version": 3
   },
   "file_extension": ".py",
   "mimetype": "text/x-python",
   "name": "python",
   "nbconvert_exporter": "python",
   "pygments_lexer": "ipython3",
   "version": "3.8.3"
  }
 },
 "nbformat": 4,
 "nbformat_minor": 4
}
