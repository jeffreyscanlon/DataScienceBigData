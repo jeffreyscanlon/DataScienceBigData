{
 "cells": [
  {
   "cell_type": "markdown",
   "metadata": {},
   "source": [
    "## Assignment 2, Part 3\n",
    "### Jeff Scanlon\n",
    "### Jscanlo2"
   ]
  },
  {
   "cell_type": "code",
   "execution_count": 181,
   "metadata": {},
   "outputs": [
    {
     "data": {
      "text/html": [
       "<div>\n",
       "<style scoped>\n",
       "    .dataframe tbody tr th:only-of-type {\n",
       "        vertical-align: middle;\n",
       "    }\n",
       "\n",
       "    .dataframe tbody tr th {\n",
       "        vertical-align: top;\n",
       "    }\n",
       "\n",
       "    .dataframe thead th {\n",
       "        text-align: right;\n",
       "    }\n",
       "</style>\n",
       "<table border=\"1\" class=\"dataframe\">\n",
       "  <thead>\n",
       "    <tr style=\"text-align: right;\">\n",
       "      <th></th>\n",
       "      <th>app_name</th>\n",
       "      <th>category</th>\n",
       "      <th>appstore_link_url</th>\n",
       "      <th>img_src_url</th>\n",
       "      <th>star_rating</th>\n",
       "      <th>num_ratings</th>\n",
       "    </tr>\n",
       "  </thead>\n",
       "  <tbody>\n",
       "    <tr>\n",
       "      <th>0</th>\n",
       "      <td>SoundCloud - Music &amp; Audio</td>\n",
       "      <td>Music</td>\n",
       "      <td>https://apps.apple.com/gb/app/soundcloud-music...</td>\n",
       "      <td>/autopush/uk/itunes/charts/free-apps/images/20...</td>\n",
       "      <td>4.4</td>\n",
       "      <td>10.2K Ratings</td>\n",
       "    </tr>\n",
       "    <tr>\n",
       "      <th>1</th>\n",
       "      <td>Bolt</td>\n",
       "      <td>Travel</td>\n",
       "      <td>https://apps.apple.com/gb/app/bolt/id675033630...</td>\n",
       "      <td>/autopush/uk/itunes/charts/free-apps/images/20...</td>\n",
       "      <td>4.9</td>\n",
       "      <td>29.9K Ratings</td>\n",
       "    </tr>\n",
       "    <tr>\n",
       "      <th>2</th>\n",
       "      <td>Google Drive – online backup</td>\n",
       "      <td>Productivity</td>\n",
       "      <td>https://apps.apple.com/gb/app/google-drive-onl...</td>\n",
       "      <td>/autopush/uk/itunes/charts/free-apps/images/20...</td>\n",
       "      <td>4.7</td>\n",
       "      <td>236.4K Ratings</td>\n",
       "    </tr>\n",
       "    <tr>\n",
       "      <th>3</th>\n",
       "      <td>Amazon Prime Video</td>\n",
       "      <td>Entertainment</td>\n",
       "      <td>https://apps.apple.com/gb/app/amazon-prime-vid...</td>\n",
       "      <td>/autopush/uk/itunes/charts/free-apps/images/20...</td>\n",
       "      <td>4.7</td>\n",
       "      <td>117.6K Ratings</td>\n",
       "    </tr>\n",
       "    <tr>\n",
       "      <th>4</th>\n",
       "      <td>Depop - Buy and sell fashion</td>\n",
       "      <td>Shopping</td>\n",
       "      <td>https://apps.apple.com/gb/app/depop-buy-and-se...</td>\n",
       "      <td>/autopush/uk/itunes/charts/free-apps/images/20...</td>\n",
       "      <td>4.8</td>\n",
       "      <td>158.4K Ratings</td>\n",
       "    </tr>\n",
       "  </tbody>\n",
       "</table>\n",
       "</div>"
      ],
      "text/plain": [
       "                       app_name       category  \\\n",
       "0    SoundCloud - Music & Audio          Music   \n",
       "1                          Bolt         Travel   \n",
       "2  Google Drive – online backup   Productivity   \n",
       "3            Amazon Prime Video  Entertainment   \n",
       "4  Depop - Buy and sell fashion       Shopping   \n",
       "\n",
       "                                   appstore_link_url  \\\n",
       "0  https://apps.apple.com/gb/app/soundcloud-music...   \n",
       "1  https://apps.apple.com/gb/app/bolt/id675033630...   \n",
       "2  https://apps.apple.com/gb/app/google-drive-onl...   \n",
       "3  https://apps.apple.com/gb/app/amazon-prime-vid...   \n",
       "4  https://apps.apple.com/gb/app/depop-buy-and-se...   \n",
       "\n",
       "                                         img_src_url  star_rating  \\\n",
       "0  /autopush/uk/itunes/charts/free-apps/images/20...          4.4   \n",
       "1  /autopush/uk/itunes/charts/free-apps/images/20...          4.9   \n",
       "2  /autopush/uk/itunes/charts/free-apps/images/20...          4.7   \n",
       "3  /autopush/uk/itunes/charts/free-apps/images/20...          4.7   \n",
       "4  /autopush/uk/itunes/charts/free-apps/images/20...          4.8   \n",
       "\n",
       "      num_ratings  \n",
       "0   10.2K Ratings  \n",
       "1   29.9K Ratings  \n",
       "2  236.4K Ratings  \n",
       "3  117.6K Ratings  \n",
       "4  158.4K Ratings  "
      ]
     },
     "execution_count": 181,
     "metadata": {},
     "output_type": "execute_result"
    }
   ],
   "source": [
    "import pandas as pd\n",
    "import re\n",
    "df = pd.read_csv('itunes-raja.csv', sep=',')\n",
    "df.head()"
   ]
  },
  {
   "cell_type": "code",
   "execution_count": 182,
   "metadata": {},
   "outputs": [],
   "source": [
    "df['new_ratings'] = df['num_ratings']\n",
    "\n",
    "for entry in df['new_ratings']:\n",
    "    \n",
    "    if('K Ratings' in str(entry)):\n",
    "        new_entry = entry.replace('K Ratings', '')\n",
    "        df.loc[df['new_ratings']==entry, 'new_ratings'] = int(float(new_entry)*1000)\n",
    "        \n",
    "    elif('M Ratings' in str(entry)):\n",
    "        new_entry = entry.replace('M Ratings', '')\n",
    "        df.loc[df['new_ratings']==entry, 'new_ratings'] = int(float(new_entry)*1000000)\n",
    "        \n",
    "    elif(' Ratings' in str(entry)):\n",
    "        new_entry = entry.replace(' Ratings', '')\n",
    "        df.loc[df['new_ratings']==entry, 'new_ratings'] = int(new_entry)\n",
    "    \n",
    "    else:\n",
    "        df.loc[df['new_ratings']==entry, 'new_ratings'] = entry"
   ]
  },
  {
   "cell_type": "code",
   "execution_count": 191,
   "metadata": {},
   "outputs": [],
   "source": [
    "df = df.sort_values(by = ['star_rating', 'new_ratings', 'app_name'], ascending=[False, False, True]).reset_index(drop=True)"
   ]
  },
  {
   "cell_type": "code",
   "execution_count": 211,
   "metadata": {},
   "outputs": [
    {
     "data": {
      "text/html": [
       "<div>\n",
       "<style scoped>\n",
       "    .dataframe tbody tr th:only-of-type {\n",
       "        vertical-align: middle;\n",
       "    }\n",
       "\n",
       "    .dataframe tbody tr th {\n",
       "        vertical-align: top;\n",
       "    }\n",
       "\n",
       "    .dataframe thead th {\n",
       "        text-align: right;\n",
       "    }\n",
       "</style>\n",
       "<table border=\"1\" class=\"dataframe\">\n",
       "  <thead>\n",
       "    <tr style=\"text-align: right;\">\n",
       "      <th></th>\n",
       "      <th>app_name</th>\n",
       "      <th>star_rating</th>\n",
       "      <th>new_ratings</th>\n",
       "    </tr>\n",
       "  </thead>\n",
       "  <tbody>\n",
       "    <tr>\n",
       "      <th>0</th>\n",
       "      <td>Shazam</td>\n",
       "      <td>4.9</td>\n",
       "      <td>694400</td>\n",
       "    </tr>\n",
       "    <tr>\n",
       "      <th>1</th>\n",
       "      <td>Bolt</td>\n",
       "      <td>4.9</td>\n",
       "      <td>29900</td>\n",
       "    </tr>\n",
       "    <tr>\n",
       "      <th>2</th>\n",
       "      <td>Barclays</td>\n",
       "      <td>4.8</td>\n",
       "      <td>856200</td>\n",
       "    </tr>\n",
       "    <tr>\n",
       "      <th>3</th>\n",
       "      <td>HSBC UK Mobile Banking</td>\n",
       "      <td>4.8</td>\n",
       "      <td>543600</td>\n",
       "    </tr>\n",
       "    <tr>\n",
       "      <th>4</th>\n",
       "      <td>Booking.com Travel Deals</td>\n",
       "      <td>4.8</td>\n",
       "      <td>540400</td>\n",
       "    </tr>\n",
       "    <tr>\n",
       "      <th>...</th>\n",
       "      <td>...</td>\n",
       "      <td>...</td>\n",
       "      <td>...</td>\n",
       "    </tr>\n",
       "    <tr>\n",
       "      <th>95</th>\n",
       "      <td>B&amp;M Stores</td>\n",
       "      <td>3.1</td>\n",
       "      <td>103</td>\n",
       "    </tr>\n",
       "    <tr>\n",
       "      <th>96</th>\n",
       "      <td>Amazon</td>\n",
       "      <td>3.0</td>\n",
       "      <td>11300</td>\n",
       "    </tr>\n",
       "    <tr>\n",
       "      <th>97</th>\n",
       "      <td>SaraMart</td>\n",
       "      <td>2.9</td>\n",
       "      <td>108</td>\n",
       "    </tr>\n",
       "    <tr>\n",
       "      <th>98</th>\n",
       "      <td>Facebook</td>\n",
       "      <td>2.6</td>\n",
       "      <td>37500</td>\n",
       "    </tr>\n",
       "    <tr>\n",
       "      <th>99</th>\n",
       "      <td>Bemoji | Your 3D Avatar Emoji</td>\n",
       "      <td>2.6</td>\n",
       "      <td>93</td>\n",
       "    </tr>\n",
       "  </tbody>\n",
       "</table>\n",
       "<p>100 rows × 3 columns</p>\n",
       "</div>"
      ],
      "text/plain": [
       "                         app_name  star_rating new_ratings\n",
       "0                          Shazam          4.9      694400\n",
       "1                            Bolt          4.9       29900\n",
       "2                        Barclays          4.8      856200\n",
       "3          HSBC UK Mobile Banking          4.8      543600\n",
       "4        Booking.com Travel Deals          4.8      540400\n",
       "..                            ...          ...         ...\n",
       "95                     B&M Stores          3.1         103\n",
       "96                         Amazon          3.0       11300\n",
       "97                       SaraMart          2.9         108\n",
       "98                       Facebook          2.6       37500\n",
       "99  Bemoji | Your 3D Avatar Emoji          2.6          93\n",
       "\n",
       "[100 rows x 3 columns]"
      ]
     },
     "execution_count": 211,
     "metadata": {},
     "output_type": "execute_result"
    }
   ],
   "source": [
    "# New Dataframe Showing Only the Columns Requested in the Assignment\n",
    "df[['app_name', 'star_rating', 'new_ratings']]"
   ]
  },
  {
   "cell_type": "code",
   "execution_count": 207,
   "metadata": {},
   "outputs": [
    {
     "data": {
      "text/plain": [
       "Games                34\n",
       "Shopping             11\n",
       "Productivity          6\n",
       "Travel                6\n",
       "Finance               6\n",
       "Education             5\n",
       "Social Networking     5\n",
       "Photo & Video         5\n",
       "Music                 4\n",
       "Food & Drink          4\n",
       "Entertainment         4\n",
       "Utilities             3\n",
       "Health & Fitness      2\n",
       "Business              2\n",
       "Navigation            2\n",
       "Reference             1\n",
       "Name: category, dtype: int64"
      ]
     },
     "execution_count": 207,
     "metadata": {},
     "output_type": "execute_result"
    }
   ],
   "source": [
    "# Number of Apps within Each Category\n",
    "df['category'].value_counts()"
   ]
  },
  {
   "cell_type": "code",
   "execution_count": 209,
   "metadata": {},
   "outputs": [
    {
     "data": {
      "text/plain": [
       "category\n",
       "Business             4.60\n",
       "Education            4.22\n",
       "Entertainment        4.18\n",
       "Finance              4.72\n",
       "Food & Drink         4.58\n",
       "Games                4.43\n",
       "Health & Fitness     4.70\n",
       "Music                4.55\n",
       "Navigation           4.50\n",
       "Photo & Video        4.44\n",
       "Productivity         4.55\n",
       "Reference            4.40\n",
       "Shopping             4.23\n",
       "Social Networking    4.14\n",
       "Travel               4.68\n",
       "Utilities            3.73\n",
       "Name: star_rating, dtype: float64"
      ]
     },
     "execution_count": 209,
     "metadata": {},
     "output_type": "execute_result"
    }
   ],
   "source": [
    "# Unweighted Average of Star Rating for Apps within Each Category\n",
    "round(df.groupby('category')['star_rating'].mean(),2)"
   ]
  },
  {
   "cell_type": "code",
   "execution_count": 243,
   "metadata": {},
   "outputs": [],
   "source": [
    "df.groupby('category')['star_rating'].max()\n",
    "maxvals = df.groupby('category')['star_rating'].max()"
   ]
  },
  {
   "cell_type": "code",
   "execution_count": 261,
   "metadata": {},
   "outputs": [
    {
     "data": {
      "text/plain": [
       "category\n",
       "Business                           Microsoft Teams\n",
       "Education                                 Duolingo\n",
       "Entertainment               TikTok - Make Your Day\n",
       "Finance                                   Barclays\n",
       "Food & Drink              Just Eat - Food Delivery\n",
       "Games                                 8 Ball Pool™\n",
       "Health & Fitness                      MyFitnessPal\n",
       "Music                                       Shazam\n",
       "Navigation            Google Maps - Transit & Food\n",
       "Photo & Video        FreePrints - Photos Delivered\n",
       "Productivity          Google Drive – online backup\n",
       "Reference                         Google Translate\n",
       "Shopping                UNiDAYS: Student Discounts\n",
       "Social Networking       Pinterest: Lifestyle Ideas\n",
       "Travel                                        Bolt\n",
       "Utilities                              My Vodafone\n",
       "Name: app_name, dtype: object"
      ]
     },
     "execution_count": 261,
     "metadata": {},
     "output_type": "execute_result"
    }
   ],
   "source": [
    "# This series shows the App Name with the highest average rating for each category.\n",
    "# In the case of ties, the App Name with the highest number of total ratings is shown.\n",
    "# This is because the dataframe used to generate this series is already sorted by average rating and number of ratings.\n",
    "# idxmax works by pulling the first index with the corresponding maximum value, which is why sorting works.\n",
    "# The code chunk provided below this cell confirms that.\n",
    "grouped_df = df.loc[df.reset_index().groupby(['category'])['star_rating'].idxmax()]\n",
    "grouped_df = grouped_df.reset_index(drop=True)\n",
    "grouped_df[['category', 'app_name']].set_index('category').squeeze()"
   ]
  },
  {
   "cell_type": "code",
   "execution_count": 262,
   "metadata": {},
   "outputs": [],
   "source": [
    "#If you want to confirm the statement made in the previous comments, you can un-comment the code below and compare the results\n",
    "#to the results above\n",
    "\n",
    "#for index, value in maxvals.items():\n",
    "    #print(df[(df['category']==index ) & (df['star_rating']==value)][['category', 'app_name', 'star_rating', 'new_ratings']])"
   ]
  }
 ],
 "metadata": {
  "kernelspec": {
   "display_name": "Python 3",
   "language": "python",
   "name": "python3"
  },
  "language_info": {
   "codemirror_mode": {
    "name": "ipython",
    "version": 3
   },
   "file_extension": ".py",
   "mimetype": "text/x-python",
   "name": "python",
   "nbconvert_exporter": "python",
   "pygments_lexer": "ipython3",
   "version": "3.8.3"
  }
 },
 "nbformat": 4,
 "nbformat_minor": 4
}
