{
  "nbformat": 4,
  "nbformat_minor": 0,
  "metadata": {
    "kernelspec": {
      "display_name": "Python 3",
      "language": "python",
      "name": "python3"
    },
    "language_info": {
      "codemirror_mode": {
        "name": "ipython",
        "version": 3
      },
      "file_extension": ".py",
      "mimetype": "text/x-python",
      "name": "python",
      "nbconvert_exporter": "python",
      "pygments_lexer": "ipython3",
      "version": "3.8.5"
    },
    "colab": {
      "name": "01-spark-benford-exercise.ipynb",
      "provenance": [],
      "collapsed_sections": []
    }
  },
  "cells": [
    {
      "cell_type": "markdown",
      "metadata": {
        "id": "Nt3pj7EO-j6N"
      },
      "source": [
        "### Exploring Benford's Law with Spark RDDs\n",
        "\n",
        "#### Name: `Jeff Scanlon`\n",
        "#### AndrewID: `jscanlo2`"
      ]
    },
    {
      "cell_type": "code",
      "metadata": {
        "id": "ZTHITxKYD0Tk"
      },
      "source": [
        "#!apt-get install openjdk-8-jdk-headless -qq > /dev/null\n",
        "#!wget -q https://apache.claz.org/spark/spark-3.0.1/spark-3.0.1-bin-hadoop2.7.tgz\n",
        "#!tar xf spark-3.0.1-bin-hadoop2.7.tgz\n",
        "#!pip install -q findspark"
      ],
      "execution_count": null,
      "outputs": []
    },
    {
      "cell_type": "code",
      "metadata": {
        "id": "b59rXy7pD0fq"
      },
      "source": [
        "#import os\n",
        "#os.environ[\"JAVA_HOME\"] = \"/usr/lib/jvm/java-8-openjdk-amd64\"\n",
        "#os.environ[\"SPARK_HOME\"] = \"/content/spark-3.0.1-bin-hadoop2.7\""
      ],
      "execution_count": null,
      "outputs": []
    },
    {
      "cell_type": "code",
      "metadata": {
        "colab": {
          "base_uri": "https://localhost:8080/",
          "height": 357
        },
        "id": "gL-6Q5GG-j6O",
        "outputId": "12fe8b01-92ea-46a9-80ca-9ebb562cc2c0"
      },
      "source": [
        "import findspark\n",
        "findspark.init()\n",
        "from pyspark import SparkContext\n",
        "sc = SparkContext()"
      ],
      "execution_count": null,
      "outputs": [
        {
          "output_type": "error",
          "ename": "ModuleNotFoundError",
          "evalue": "ignored",
          "traceback": [
            "\u001b[0;31m---------------------------------------------------------------------------\u001b[0m",
            "\u001b[0;31mModuleNotFoundError\u001b[0m                       Traceback (most recent call last)",
            "\u001b[0;32m<ipython-input-1-f2ddc2e94d00>\u001b[0m in \u001b[0;36m<module>\u001b[0;34m()\u001b[0m\n\u001b[0;32m----> 1\u001b[0;31m \u001b[0;32mimport\u001b[0m \u001b[0mfindspark\u001b[0m\u001b[0;34m\u001b[0m\u001b[0;34m\u001b[0m\u001b[0m\n\u001b[0m\u001b[1;32m      2\u001b[0m \u001b[0mfindspark\u001b[0m\u001b[0;34m.\u001b[0m\u001b[0minit\u001b[0m\u001b[0;34m(\u001b[0m\u001b[0;34m)\u001b[0m\u001b[0;34m\u001b[0m\u001b[0;34m\u001b[0m\u001b[0m\n\u001b[1;32m      3\u001b[0m \u001b[0;32mfrom\u001b[0m \u001b[0mpyspark\u001b[0m \u001b[0;32mimport\u001b[0m \u001b[0mSparkContext\u001b[0m\u001b[0;34m\u001b[0m\u001b[0;34m\u001b[0m\u001b[0m\n\u001b[1;32m      4\u001b[0m \u001b[0msc\u001b[0m \u001b[0;34m=\u001b[0m \u001b[0mSparkContext\u001b[0m\u001b[0;34m(\u001b[0m\u001b[0;34m)\u001b[0m\u001b[0;34m\u001b[0m\u001b[0;34m\u001b[0m\u001b[0m\n",
            "\u001b[0;31mModuleNotFoundError\u001b[0m: No module named 'findspark'",
            "",
            "\u001b[0;31m---------------------------------------------------------------------------\u001b[0;32m\nNOTE: If your import is failing due to a missing package, you can\nmanually install dependencies using either !pip or !apt.\n\nTo view examples of installing some common dependencies, click the\n\"Open Examples\" button below.\n\u001b[0;31m---------------------------------------------------------------------------\u001b[0m\n"
          ]
        }
      ]
    },
    {
      "cell_type": "code",
      "metadata": {
        "id": "xjfRPZKlGOIq"
      },
      "source": [
        "#uploaded = files.upload()"
      ],
      "execution_count": null,
      "outputs": []
    },
    {
      "cell_type": "code",
      "metadata": {
        "id": "t8Ek1AwX-j6P"
      },
      "source": [
        "lines = sc.textFile('tallest-buildings.txt')"
      ],
      "execution_count": null,
      "outputs": []
    },
    {
      "cell_type": "code",
      "metadata": {
        "id": "c5ZP0nul-j6Q",
        "outputId": "99d854dd-1e20-49c0-d019-fa16a16dddb1"
      },
      "source": [
        "lines.take(5)"
      ],
      "execution_count": null,
      "outputs": [
        {
          "output_type": "execute_result",
          "data": {
            "text/plain": [
              "['|Mixed use! [[Burj Khalifa]] ! {{flag|United Arab Emirates}} ! [[Dubai]] ! 829.8 ! 2722 ! 2010 ! {{coord|25|11|50.0|N|55|16|26.6|E|type:landmark|name=Burj Dubai}}',\n",
              " '|Self-supporting tower ! [[Tokyo Skytree]] ! {{flag|Japan}} ! [[Tokyo]] ! 634 ! 2080 ! 2011 ! {{Coord|35|42|36.5|N|139|48|39|E|type:landmark|name=Tokyo Skytree}}',\n",
              " '|Clock building! [[Abraj Al Bait Towers]] ! {{flag|Saudi Arabia}} ! [[Mecca]] ! 601 ! 1972 ! 2011! {{coord|21|25|08|N|39|49|35|E|type:landmark|name=Abraj Al Bait Towers}}',\n",
              " '|Military structure ! Large masts of [[INS Kattabomman]] ! {{flag|India}} ! [[Tirunelveli]] ! 471 ! 1545 ! 2014 ! {{coord|8|22|42.52|N|77|44|38.45|E|type:landmark|name=INS Kattabomman Large Mast West}} ; {{coord|8|22|30.13|N|77|45|21.07|E|type:landmark|name=INS Kattabomman Large Mast East}}',\n",
              " '|Mast radiator ! [[Lualualei VLF transmitter]] ! {{flag|United States}} ! [[Lualualei Hawaii]] ! 458 ! 1503 ! 1972 ! {{coord|21|25|11.87|N|158|08|53.67|W|type:landmark|name=VLF transmitter Lualualei Mast 1}} ; {{coord|21|25|13.38|N|158|09|14.35|W|type:landmark|name=VLF transmitter Lualualei Mast 2}}']"
            ]
          },
          "metadata": {
            "tags": []
          },
          "execution_count": 4
        }
      ]
    },
    {
      "cell_type": "markdown",
      "metadata": {
        "id": "oFBHYQ3o-j6V"
      },
      "source": [
        "### The Exercise\n",
        "Note the fields are seperated by the `!` character.  The 5th field (counting from 0) is the height of each structure expressed in feet.  The first few values are `[' 2722 ', ' 2080 ', ' 1972 ', ' 1545 ', ' 1503 ']`.  Determine the frequency of occurrence of each of the leading digits of the heights (in feet). Expected final answer:\n",
        "\n",
        "```\n",
        "[('1', 17),\n",
        " ('2', 6),\n",
        " ('3', 4),\n",
        " ('4', 7),\n",
        " ('5', 13),\n",
        " ('6', 5),\n",
        " ('7', 2),\n",
        " ('9', 1)]\n",
        " ```"
      ]
    },
    {
      "cell_type": "markdown",
      "metadata": {
        "id": "tOk7_edSAqM0"
      },
      "source": [
        "## Answer"
      ]
    },
    {
      "cell_type": "code",
      "metadata": {
        "id": "FdbkUyFz-j6W"
      },
      "source": [
        "# As multiple expressions\n",
        "r2 = lines.map(lambda line: line.strip().split('!'))\n",
        "r2.take(5)"
      ],
      "execution_count": null,
      "outputs": []
    },
    {
      "cell_type": "code",
      "metadata": {
        "id": "JsCnuDpQ__H2"
      },
      "source": [
        "r3 = r2.map(lambda line: line[5][1:2])\n",
        "r3.take(5)"
      ],
      "execution_count": null,
      "outputs": []
    },
    {
      "cell_type": "code",
      "metadata": {
        "id": "zZUF9Lqq__UG"
      },
      "source": [
        "r4 = r3.map(lambda w: (w, 1))\n",
        "r4.take(5)"
      ],
      "execution_count": null,
      "outputs": []
    },
    {
      "cell_type": "code",
      "metadata": {
        "id": "gSOXWgrq__fo"
      },
      "source": [
        "r5 = r4.groupByKey()\n",
        "r5.take(5)"
      ],
      "execution_count": null,
      "outputs": []
    },
    {
      "cell_type": "code",
      "metadata": {
        "id": "xKJCwURY__pg"
      },
      "source": [
        "r6 = r5.map(lambda x: (x[0], sum(list(x[1]))))\n",
        "r6.sortByKey().take(9)"
      ],
      "execution_count": null,
      "outputs": []
    },
    {
      "cell_type": "code",
      "metadata": {
        "id": "IVhhMMKr-2It"
      },
      "source": [
        "# As a single expression\n",
        "(\n",
        "    lines.map(lambda line: line.strip().split('!'))\n",
        "    .map(lambda line: line[5][1:2])\n",
        "    .map(lambda w: (w, 1))\n",
        "    .groupByKey()\n",
        "    .map(lambda x: (x[0], sum(list(x[1]))))\n",
        "    .sortByKey().take(9)\n",
        ")"
      ],
      "execution_count": null,
      "outputs": []
    }
  ]
}